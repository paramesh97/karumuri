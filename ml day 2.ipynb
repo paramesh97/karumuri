{
 "cells": [
  {
   "cell_type": "markdown",
   "metadata": {},
   "source": [
    "## tpoic last session\n",
    "- arange,linspace\n",
    "- random\n",
    "   - randint\n",
    "   - randn\n",
    "   - normal\n",
    "- basic operations +,-,*,/,//\n",
    "- initializing arrays\n",
    "   - zeros\n",
    "   \n"
   ]
  },
  {
   "cell_type": "code",
   "execution_count": 5,
   "metadata": {},
   "outputs": [],
   "source": [
    "import numpy as np\n",
    "a=np.arange(7)\n",
    "b=np.full((7),1)"
   ]
  },
  {
   "cell_type": "code",
   "execution_count": 6,
   "metadata": {},
   "outputs": [
    {
     "name": "stdout",
     "output_type": "stream",
     "text": [
      "[1 2 3 4 5 6 7]\n",
      "[-1  0  1  2  3  4  5]\n",
      "[0. 1. 2. 3. 4. 5. 6.]\n"
     ]
    }
   ],
   "source": [
    "print(np.add(a,b))\n",
    "print(np.subtract(a,b))\n",
    "print(np.divide(a,b))"
   ]
  },
  {
   "cell_type": "code",
   "execution_count": 8,
   "metadata": {},
   "outputs": [
    {
     "data": {
      "text/plain": [
       "array([[[83, 40, 73, 54],\n",
       "        [31, 76, 91, 39],\n",
       "        [90, 25, 51,  6],\n",
       "        [45, 12, 49, 66],\n",
       "        [75, 85, 69, 64]],\n",
       "\n",
       "       [[12, 21, 48, 41],\n",
       "        [79, 90, 62, 57],\n",
       "        [19, 33, 59, 39],\n",
       "        [15, 36, 65,  1],\n",
       "        [43, 15, 86, 83]],\n",
       "\n",
       "       [[58, 25, 66, 74],\n",
       "        [35, 96, 56, 13],\n",
       "        [60, 22, 38, 31],\n",
       "        [94, 78,  0, 21],\n",
       "        [ 6, 32, 98, 32]]])"
      ]
     },
     "execution_count": 8,
     "metadata": {},
     "output_type": "execute_result"
    }
   ],
   "source": [
    "#create a 3d array\n",
    "np.random.seed(23)\n",
    "a3=np.random.randint(100,size=(3,5,4))\n",
    "a3"
   ]
  },
  {
   "cell_type": "code",
   "execution_count": 9,
   "metadata": {},
   "outputs": [
    {
     "name": "stdout",
     "output_type": "stream",
     "text": [
      "[[83 40 73 54]\n",
      " [31 76 91 39]\n",
      " [90 25 51  6]\n",
      " [45 12 49 66]\n",
      " [75 85 69 64]]\n"
     ]
    }
   ],
   "source": [
    "for i in a3:\n",
    "    print(i)\n",
    "    break"
   ]
  },
  {
   "cell_type": "code",
   "execution_count": 10,
   "metadata": {},
   "outputs": [
    {
     "data": {
      "text/plain": [
       "array([[[83, 40, 73, 54],\n",
       "        [31, 76, 91, 39],\n",
       "        [90, 25, 51,  6],\n",
       "        [45, 12, 49, 66],\n",
       "        [75, 85, 69, 64]],\n",
       "\n",
       "       [[12, 21, 48, 41],\n",
       "        [79, 90, 62, 57],\n",
       "        [19, 33, 59, 39],\n",
       "        [15, 36, 65,  1],\n",
       "        [43, 15, 86, 83]],\n",
       "\n",
       "       [[58, 25, 66, 74],\n",
       "        [35, 96, 56, 13],\n",
       "        [60, 22, 38, 31],\n",
       "        [94, 78,  0, 21],\n",
       "        [ 6, 32, 98, 32]]])"
      ]
     },
     "execution_count": 10,
     "metadata": {},
     "output_type": "execute_result"
    }
   ],
   "source": [
    "#slicing or subsetting\n",
    "a3[:]#it will give all the elements with same dimension"
   ]
  },
  {
   "cell_type": "code",
   "execution_count": 18,
   "metadata": {},
   "outputs": [
    {
     "data": {
      "text/plain": [
       "array([[12, 21, 48, 41],\n",
       "       [79, 90, 62, 57],\n",
       "       [19, 33, 59, 39],\n",
       "       [15, 36, 65,  1],\n",
       "       [43, 15, 86, 83]])"
      ]
     },
     "execution_count": 18,
     "metadata": {},
     "output_type": "execute_result"
    }
   ],
   "source": [
    "a3[1]#2nd 5*3 array  shape(5,4)\n",
    "#np.shape(a3[1])\n"
   ]
  },
  {
   "cell_type": "code",
   "execution_count": 12,
   "metadata": {},
   "outputs": [
    {
     "data": {
      "text/plain": [
       "array([[[83, 40, 73, 54],\n",
       "        [31, 76, 91, 39],\n",
       "        [90, 25, 51,  6],\n",
       "        [45, 12, 49, 66],\n",
       "        [75, 85, 69, 64]]])"
      ]
     },
     "execution_count": 12,
     "metadata": {},
     "output_type": "execute_result"
    }
   ],
   "source": [
    "a3[:1]# a3[0]a 5*3 array shape(5,4)\n"
   ]
  },
  {
   "cell_type": "code",
   "execution_count": 13,
   "metadata": {},
   "outputs": [
    {
     "data": {
      "text/plain": [
       "array([[[83, 40, 73, 54],\n",
       "        [31, 76, 91, 39],\n",
       "        [90, 25, 51,  6],\n",
       "        [45, 12, 49, 66],\n",
       "        [75, 85, 69, 64]],\n",
       "\n",
       "       [[12, 21, 48, 41],\n",
       "        [79, 90, 62, 57],\n",
       "        [19, 33, 59, 39],\n",
       "        [15, 36, 65,  1],\n",
       "        [43, 15, 86, 83]]])"
      ]
     },
     "execution_count": 13,
     "metadata": {},
     "output_type": "execute_result"
    }
   ],
   "source": [
    "a3[:2] #shape(2,5,4)"
   ]
  },
  {
   "cell_type": "code",
   "execution_count": 15,
   "metadata": {},
   "outputs": [
    {
     "data": {
      "text/plain": [
       "(2, 5, 4)"
      ]
     },
     "execution_count": 15,
     "metadata": {},
     "output_type": "execute_result"
    }
   ],
   "source": [
    "np.shape(a3[:2])"
   ]
  },
  {
   "cell_type": "code",
   "execution_count": 20,
   "metadata": {},
   "outputs": [
    {
     "data": {
      "text/plain": [
       "51"
      ]
     },
     "execution_count": 20,
     "metadata": {},
     "output_type": "execute_result"
    }
   ],
   "source": [
    "a3[0][2][2]"
   ]
  },
  {
   "cell_type": "code",
   "execution_count": 21,
   "metadata": {},
   "outputs": [
    {
     "data": {
      "text/plain": [
       "array([48, 62, 59, 65, 86])"
      ]
     },
     "execution_count": 21,
     "metadata": {},
     "output_type": "execute_result"
    }
   ],
   "source": [
    "a3[1,:,2]"
   ]
  },
  {
   "cell_type": "code",
   "execution_count": 22,
   "metadata": {},
   "outputs": [
    {
     "data": {
      "text/plain": [
       "array([[[83, 40, 73, 54],\n",
       "        [31, 76, 91, 39],\n",
       "        [90, 25, 51,  6],\n",
       "        [45, 12, 49, 66],\n",
       "        [75, 85, 69, 64]],\n",
       "\n",
       "       [[12, 21, 48, 41],\n",
       "        [79, 90, 62, 57],\n",
       "        [19, 33, 59, 39],\n",
       "        [15, 36, 65,  1],\n",
       "        [43, 15, 86, 83]],\n",
       "\n",
       "       [[58, 25, 66, 74],\n",
       "        [35, 96, 56, 13],\n",
       "        [60, 22, 38, 31],\n",
       "        [94, 78,  0, 21],\n",
       "        [ 6, 32, 98, 32]]])"
      ]
     },
     "execution_count": 22,
     "metadata": {},
     "output_type": "execute_result"
    }
   ],
   "source": [
    "a3\n"
   ]
  },
  {
   "cell_type": "code",
   "execution_count": 23,
   "metadata": {},
   "outputs": [
    {
     "data": {
      "text/plain": [
       "array([[91, 51],\n",
       "       [62, 59]])"
      ]
     },
     "execution_count": 23,
     "metadata": {},
     "output_type": "execute_result"
    }
   ],
   "source": [
    "a3[:2,1:3,2]# :2 means dimensions\n",
    "            # 1:3 in the two dimensins we get the second and third row\n",
    "            #2 means we access the third column\n",
    "            # every matrix starts from 0 row and 0 column"
   ]
  },
  {
   "cell_type": "code",
   "execution_count": 24,
   "metadata": {},
   "outputs": [
    {
     "data": {
      "text/plain": [
       "array([[[58, 25, 66, 74],\n",
       "        [35, 96, 56, 13],\n",
       "        [60, 22, 38, 31],\n",
       "        [94, 78,  0, 21],\n",
       "        [ 6, 32, 98, 32]],\n",
       "\n",
       "       [[12, 21, 48, 41],\n",
       "        [79, 90, 62, 57],\n",
       "        [19, 33, 59, 39],\n",
       "        [15, 36, 65,  1],\n",
       "        [43, 15, 86, 83]],\n",
       "\n",
       "       [[83, 40, 73, 54],\n",
       "        [31, 76, 91, 39],\n",
       "        [90, 25, 51,  6],\n",
       "        [45, 12, 49, 66],\n",
       "        [75, 85, 69, 64]]])"
      ]
     },
     "execution_count": 24,
     "metadata": {},
     "output_type": "execute_result"
    }
   ],
   "source": [
    "a3[[2,1,0]]"
   ]
  },
  {
   "cell_type": "code",
   "execution_count": 25,
   "metadata": {},
   "outputs": [
    {
     "data": {
      "text/plain": [
       "array([[[45, 12, 49, 66],\n",
       "        [31, 76, 91, 39]],\n",
       "\n",
       "       [[15, 36, 65,  1],\n",
       "        [79, 90, 62, 57]],\n",
       "\n",
       "       [[94, 78,  0, 21],\n",
       "        [35, 96, 56, 13]]])"
      ]
     },
     "execution_count": 25,
     "metadata": {},
     "output_type": "execute_result"
    }
   ],
   "source": [
    "a3[:,[3,1]]# all the dimensions access the 4th row and 1st row"
   ]
  },
  {
   "cell_type": "code",
   "execution_count": 33,
   "metadata": {},
   "outputs": [
    {
     "data": {
      "text/plain": [
       "array([13, 65])"
      ]
     },
     "execution_count": 33,
     "metadata": {},
     "output_type": "execute_result"
    }
   ],
   "source": [
    "a3[[2,1],[1,3],[3,2]] #[2,1,3][1,3,2] broadcasting"
   ]
  },
  {
   "cell_type": "code",
   "execution_count": 29,
   "metadata": {},
   "outputs": [
    {
     "data": {
      "text/plain": [
       "(13, 65)"
      ]
     },
     "execution_count": 29,
     "metadata": {},
     "output_type": "execute_result"
    }
   ],
   "source": [
    "a3[2,1,3],a3[1,3,2]"
   ]
  },
  {
   "cell_type": "code",
   "execution_count": 38,
   "metadata": {},
   "outputs": [
    {
     "data": {
      "text/plain": [
       "array([[49, 29, 19, 19, 14, 39, 32],\n",
       "       [65,  9, 57, 32, 31, 74, 23],\n",
       "       [35, 75, 55, 28, 34,  0,  0],\n",
       "       [36, 53,  5, 38, 17, 79,  4],\n",
       "       [42, 58, 31,  1, 65, 41, 57]])"
      ]
     },
     "execution_count": 38,
     "metadata": {},
     "output_type": "execute_result"
    }
   ],
   "source": [
    "#np.random.seed(0)\n",
    "a2=np.random.randint(100,size=(5,7))\n",
    "a2"
   ]
  },
  {
   "cell_type": "code",
   "execution_count": 46,
   "metadata": {},
   "outputs": [
    {
     "data": {
      "text/plain": [
       "array([[29, 19, 39],\n",
       "       [ 9, 32, 74],\n",
       "       [75, 28,  0],\n",
       "       [53, 38, 79],\n",
       "       [58,  1, 41]])"
      ]
     },
     "execution_count": 46,
     "metadata": {},
     "output_type": "execute_result"
    }
   ],
   "source": [
    "#select alternate columns\n",
    "#select alternate rows\n",
    "#a2[:,[0,2,4]]\n",
    "#a2[:,[1,3,5]]\n",
    "#a2[:,0::2]\n",
    "a2[:,1::2]\n"
   ]
  },
  {
   "cell_type": "code",
   "execution_count": 47,
   "metadata": {},
   "outputs": [
    {
     "data": {
      "text/plain": [
       "array([[49, 29, 19, 19, 14, 39, 32],\n",
       "       [65,  9, 57, 32, 31, 74, 23]])"
      ]
     },
     "execution_count": 47,
     "metadata": {},
     "output_type": "execute_result"
    }
   ],
   "source": [
    "a2[0:2,]"
   ]
  },
  {
   "cell_type": "code",
   "execution_count": 48,
   "metadata": {},
   "outputs": [
    {
     "data": {
      "text/plain": [
       "array([[49, 29, 19, 19, 14, 39, 32],\n",
       "       [35, 75, 55, 28, 34,  0,  0],\n",
       "       [42, 58, 31,  1, 65, 41, 57]])"
      ]
     },
     "execution_count": 48,
     "metadata": {},
     "output_type": "execute_result"
    }
   ],
   "source": [
    "a2[[0,2,4],:]"
   ]
  },
  {
   "cell_type": "code",
   "execution_count": 49,
   "metadata": {},
   "outputs": [
    {
     "data": {
      "text/plain": [
       "array([[65,  9, 57, 32, 31, 74, 23],\n",
       "       [36, 53,  5, 38, 17, 79,  4]])"
      ]
     },
     "execution_count": 49,
     "metadata": {},
     "output_type": "execute_result"
    }
   ],
   "source": [
    "a2[1::2,:]"
   ]
  },
  {
   "cell_type": "code",
   "execution_count": 50,
   "metadata": {},
   "outputs": [
    {
     "data": {
      "text/plain": [
       "array([[65,  9, 57, 32, 31, 74, 23],\n",
       "       [36, 53,  5, 38, 17, 79,  4]])"
      ]
     },
     "execution_count": 50,
     "metadata": {},
     "output_type": "execute_result"
    }
   ],
   "source": [
    "a2[[1,3],:]"
   ]
  },
  {
   "cell_type": "code",
   "execution_count": 52,
   "metadata": {},
   "outputs": [
    {
     "data": {
      "text/plain": [
       "array([[ 0,  1,  2,  3,  4,  5,  6],\n",
       "       [ 7,  8,  9, 10, 11, 12, 13],\n",
       "       [14, 15, 16, 17, 18, 19, 20],\n",
       "       [21, 22, 23, 24, 25, 26, 27],\n",
       "       [28, 29, 30, 31, 32, 33, 34]])"
      ]
     },
     "execution_count": 52,
     "metadata": {},
     "output_type": "execute_result"
    }
   ],
   "source": [
    "a2=np.arange(35).reshape(5,7)\n",
    "a2"
   ]
  },
  {
   "cell_type": "code",
   "execution_count": 53,
   "metadata": {},
   "outputs": [
    {
     "data": {
      "text/plain": [
       "array([ 9, 18,  6])"
      ]
     },
     "execution_count": 53,
     "metadata": {},
     "output_type": "execute_result"
    }
   ],
   "source": [
    "#check the output\n",
    "a2[[1,2,0],[2,4,6]]#[(1,2),(2,4,(0,6))] broadcast avuthundi"
   ]
  },
  {
   "cell_type": "code",
   "execution_count": 62,
   "metadata": {},
   "outputs": [
    {
     "data": {
      "text/plain": [
       "array([[14, 15, 16, 17, 18, 19, 20]])"
      ]
     },
     "execution_count": 62,
     "metadata": {},
     "output_type": "execute_result"
    }
   ],
   "source": [
    "a2[2:3:5]"
   ]
  },
  {
   "cell_type": "code",
   "execution_count": 59,
   "metadata": {},
   "outputs": [
    {
     "data": {
      "text/plain": [
       "array([[False, False, False, False, False, False, False],\n",
       "       [False, False, False, False,  True,  True,  True],\n",
       "       [ True,  True,  True,  True,  True,  True,  True],\n",
       "       [ True,  True,  True,  True,  True,  True,  True],\n",
       "       [ True,  True,  True,  True,  True,  True,  True]])"
      ]
     },
     "execution_count": 59,
     "metadata": {},
     "output_type": "execute_result"
    }
   ],
   "source": [
    "a2>10"
   ]
  },
  {
   "cell_type": "code",
   "execution_count": 65,
   "metadata": {},
   "outputs": [
    {
     "name": "stdout",
     "output_type": "stream",
     "text": [
      "2\n",
      "1\n"
     ]
    }
   ],
   "source": [
    "print(True+True)\n",
    "print(True+False)"
   ]
  },
  {
   "cell_type": "code",
   "execution_count": 64,
   "metadata": {},
   "outputs": [
    {
     "data": {
      "text/plain": [
       "24"
      ]
     },
     "execution_count": 64,
     "metadata": {},
     "output_type": "execute_result"
    }
   ],
   "source": [
    "np.sum(a2>10)"
   ]
  },
  {
   "cell_type": "code",
   "execution_count": 66,
   "metadata": {},
   "outputs": [
    {
     "data": {
      "text/plain": [
       "array([11, 12, 13, 14, 15, 16, 17, 18, 19, 20, 21, 22, 23, 24, 25, 26, 27,\n",
       "       28, 29, 30, 31, 32, 33, 34])"
      ]
     },
     "execution_count": 66,
     "metadata": {},
     "output_type": "execute_result"
    }
   ],
   "source": [
    "a2[a2>10]"
   ]
  },
  {
   "cell_type": "code",
   "execution_count": 67,
   "metadata": {},
   "outputs": [
    {
     "data": {
      "text/plain": [
       "array([False, False, False,  True,  True,  True, False])"
      ]
     },
     "execution_count": 67,
     "metadata": {},
     "output_type": "execute_result"
    }
   ],
   "source": [
    "a5=np.array([67,89,23,44,32,78,99])\n",
    "a5 %2==0"
   ]
  },
  {
   "cell_type": "code",
   "execution_count": 68,
   "metadata": {},
   "outputs": [
    {
     "data": {
      "text/plain": [
       "array([44, 32, 78])"
      ]
     },
     "execution_count": 68,
     "metadata": {},
     "output_type": "execute_result"
    }
   ],
   "source": [
    "a5[a5 %2==0]#even"
   ]
  },
  {
   "cell_type": "code",
   "execution_count": 70,
   "metadata": {},
   "outputs": [
    {
     "data": {
      "text/plain": [
       "array([67, 89, 23,  0,  0,  0, 99])"
      ]
     },
     "execution_count": 70,
     "metadata": {},
     "output_type": "execute_result"
    }
   ],
   "source": [
    "a5[a5 %2==0] = 0\n",
    "a5"
   ]
  },
  {
   "cell_type": "code",
   "execution_count": 71,
   "metadata": {},
   "outputs": [
    {
     "data": {
      "text/plain": [
       "array([ True,  True,  True, False, False, False,  True])"
      ]
     },
     "execution_count": 71,
     "metadata": {},
     "output_type": "execute_result"
    }
   ],
   "source": [
    "a5=np.array([67,89,23,44,32,78,99])\n",
    "a5 %2!=0"
   ]
  },
  {
   "cell_type": "code",
   "execution_count": 72,
   "metadata": {},
   "outputs": [
    {
     "data": {
      "text/plain": [
       "array([67, 89, 23, 99])"
      ]
     },
     "execution_count": 72,
     "metadata": {},
     "output_type": "execute_result"
    }
   ],
   "source": [
    "a5[a5 %2!=0]#odd"
   ]
  },
  {
   "cell_type": "code",
   "execution_count": 79,
   "metadata": {},
   "outputs": [
    {
     "data": {
      "text/plain": [
       "array([ 92, 127,  89,  34,   2,  67])"
      ]
     },
     "execution_count": 79,
     "metadata": {},
     "output_type": "execute_result"
    }
   ],
   "source": [
    "a6=np.array([92,-127,89,-34,2,67])\n",
    "#np.abs(a6)\n",
    "a6[a6<0]=[127,34]\n",
    "a6"
   ]
  },
  {
   "cell_type": "code",
   "execution_count": 80,
   "metadata": {},
   "outputs": [
    {
     "data": {
      "text/plain": [
       "array([ 92, 127,  89,  34,   2,  67])"
      ]
     },
     "execution_count": 80,
     "metadata": {},
     "output_type": "execute_result"
    }
   ],
   "source": [
    "a6=np.array([92,-127,89,-34,2,67])\n",
    "np.abs(a6)"
   ]
  },
  {
   "cell_type": "code",
   "execution_count": 81,
   "metadata": {},
   "outputs": [
    {
     "data": {
      "text/plain": [
       "14.833333333333334"
      ]
     },
     "execution_count": 81,
     "metadata": {},
     "output_type": "execute_result"
    }
   ],
   "source": [
    "np.mean(a6)"
   ]
  },
  {
   "cell_type": "code",
   "execution_count": 82,
   "metadata": {
    "scrolled": false
   },
   "outputs": [
    {
     "data": {
      "text/plain": [
       "array([92, 14, 89, 14,  2, 67])"
      ]
     },
     "execution_count": 82,
     "metadata": {},
     "output_type": "execute_result"
    }
   ],
   "source": [
    "a6=np.array([92,-127,89,-34,2,67])\n",
    "#np.abs(a6)\n",
    "a6[a6<0]=np.mean(a6)\n",
    "a6"
   ]
  },
  {
   "cell_type": "markdown",
   "metadata": {},
   "source": [
    "## array manipulation\n",
    "  - reshape\n",
    "  - flatten\n",
    "  - resize\n",
    "  "
   ]
  },
  {
   "cell_type": "code",
   "execution_count": 85,
   "metadata": {},
   "outputs": [
    {
     "data": {
      "text/plain": [
       "array([[ 0,  1,  2,  3,  4],\n",
       "       [ 5,  6,  7,  8,  9],\n",
       "       [10, 11, 12, 13, 14],\n",
       "       [15, 16, 17, 18, 19],\n",
       "       [20, 21, 22, 23, 24],\n",
       "       [25, 26, 27, 28, 29],\n",
       "       [30, 31, 32, 33, 34],\n",
       "       [35, 36, 37, 38, 39],\n",
       "       [40, 41, 42, 43, 44]])"
      ]
     },
     "execution_count": 85,
     "metadata": {},
     "output_type": "execute_result"
    }
   ],
   "source": [
    "a7=np.arange(45).reshape((9,5))\n",
    "a7"
   ]
  },
  {
   "cell_type": "code",
   "execution_count": 86,
   "metadata": {},
   "outputs": [
    {
     "data": {
      "text/plain": [
       "array([[[ 0,  1,  2,  3,  4],\n",
       "        [ 5,  6,  7,  8,  9],\n",
       "        [10, 11, 12, 13, 14],\n",
       "        [15, 16, 17, 18, 19],\n",
       "        [20, 21, 22, 23, 24],\n",
       "        [25, 26, 27, 28, 29],\n",
       "        [30, 31, 32, 33, 34],\n",
       "        [35, 36, 37, 38, 39],\n",
       "        [40, 41, 42, 43, 44]]])"
      ]
     },
     "execution_count": 86,
     "metadata": {},
     "output_type": "execute_result"
    }
   ],
   "source": [
    "a7.reshape(1,9,5)"
   ]
  },
  {
   "cell_type": "code",
   "execution_count": 87,
   "metadata": {},
   "outputs": [
    {
     "data": {
      "text/plain": [
       "array([[[ 0,  1,  2,  3,  4],\n",
       "        [ 5,  6,  7,  8,  9],\n",
       "        [10, 11, 12, 13, 14]],\n",
       "\n",
       "       [[15, 16, 17, 18, 19],\n",
       "        [20, 21, 22, 23, 24],\n",
       "        [25, 26, 27, 28, 29]],\n",
       "\n",
       "       [[30, 31, 32, 33, 34],\n",
       "        [35, 36, 37, 38, 39],\n",
       "        [40, 41, 42, 43, 44]]])"
      ]
     },
     "execution_count": 87,
     "metadata": {},
     "output_type": "execute_result"
    }
   ],
   "source": [
    "a7.reshape(3,3,5)"
   ]
  },
  {
   "cell_type": "code",
   "execution_count": 90,
   "metadata": {},
   "outputs": [
    {
     "data": {
      "text/plain": [
       "array([[[ 0,  1,  2],\n",
       "        [ 3,  4,  5],\n",
       "        [ 6,  7,  8]],\n",
       "\n",
       "       [[ 9, 10, 11],\n",
       "        [12, 13, 14],\n",
       "        [15, 16, 17]],\n",
       "\n",
       "       [[18, 19, 20],\n",
       "        [21, 22, 23],\n",
       "        [24, 25, 26]],\n",
       "\n",
       "       [[27, 28, 29],\n",
       "        [30, 31, 32],\n",
       "        [33, 34, 35]],\n",
       "\n",
       "       [[36, 37, 38],\n",
       "        [39, 40, 41],\n",
       "        [42, 43, 44]]])"
      ]
     },
     "execution_count": 90,
     "metadata": {},
     "output_type": "execute_result"
    }
   ],
   "source": [
    "a7.reshape(5,3,3)"
   ]
  },
  {
   "cell_type": "code",
   "execution_count": 91,
   "metadata": {},
   "outputs": [
    {
     "data": {
      "text/plain": [
       "array([[[ 0,  1,  2,  3,  4],\n",
       "        [ 5,  6,  7,  8,  9],\n",
       "        [10, 11, 12, 13, 14]],\n",
       "\n",
       "       [[15, 16, 17, 18, 19],\n",
       "        [20, 21, 22, 23, 24],\n",
       "        [25, 26, 27, 28, 29]],\n",
       "\n",
       "       [[30, 31, 32, 33, 34],\n",
       "        [35, 36, 37, 38, 39],\n",
       "        [40, 41, 42, 43, 44]]])"
      ]
     },
     "execution_count": 91,
     "metadata": {},
     "output_type": "execute_result"
    }
   ],
   "source": [
    "a7.reshape(3,3,5)"
   ]
  },
  {
   "cell_type": "code",
   "execution_count": 92,
   "metadata": {},
   "outputs": [
    {
     "data": {
      "text/plain": [
       "array([[[ 0,  1,  2],\n",
       "        [ 3,  4,  5],\n",
       "        [ 6,  7,  8],\n",
       "        [ 9, 10, 11],\n",
       "        [12, 13, 14]],\n",
       "\n",
       "       [[15, 16, 17],\n",
       "        [18, 19, 20],\n",
       "        [21, 22, 23],\n",
       "        [24, 25, 26],\n",
       "        [27, 28, 29]],\n",
       "\n",
       "       [[30, 31, 32],\n",
       "        [33, 34, 35],\n",
       "        [36, 37, 38],\n",
       "        [39, 40, 41],\n",
       "        [42, 43, 44]]])"
      ]
     },
     "execution_count": 92,
     "metadata": {},
     "output_type": "execute_result"
    }
   ],
   "source": [
    "a7.reshape(3,5,3)"
   ]
  },
  {
   "cell_type": "code",
   "execution_count": 96,
   "metadata": {},
   "outputs": [
    {
     "data": {
      "text/plain": [
       "array([[[ 0,  1,  2],\n",
       "        [ 3,  4,  5],\n",
       "        [ 6,  7,  8]],\n",
       "\n",
       "       [[ 9, 10, 11],\n",
       "        [12, 13, 14],\n",
       "        [15, 16, 17]],\n",
       "\n",
       "       [[18, 19, 20],\n",
       "        [21, 22, 23],\n",
       "        [24, 25, 26]],\n",
       "\n",
       "       [[27, 28, 29],\n",
       "        [30, 31, 32],\n",
       "        [33, 34, 35]],\n",
       "\n",
       "       [[36, 37, 38],\n",
       "        [39, 40, 41],\n",
       "        [42, 43, 44]]])"
      ]
     },
     "execution_count": 96,
     "metadata": {},
     "output_type": "execute_result"
    }
   ],
   "source": [
    "a7.reshape(5,3,-1)"
   ]
  },
  {
   "cell_type": "code",
   "execution_count": null,
   "metadata": {},
   "outputs": [],
   "source": [
    "a7.reshape(5,4,-1) #error"
   ]
  },
  {
   "cell_type": "code",
   "execution_count": 97,
   "metadata": {},
   "outputs": [
    {
     "data": {
      "text/plain": [
       "array([[ 0,  1,  2,  3,  4],\n",
       "       [ 5,  6,  7,  8,  9],\n",
       "       [10, 11, 12, 13, 14],\n",
       "       [15, 16, 17, 18, 19],\n",
       "       [20, 21, 22, 23, 24],\n",
       "       [25, 26, 27, 28, 29],\n",
       "       [30, 31, 32, 33, 34],\n",
       "       [35, 36, 37, 38, 39],\n",
       "       [40, 41, 42, 43, 44]])"
      ]
     },
     "execution_count": 97,
     "metadata": {},
     "output_type": "execute_result"
    }
   ],
   "source": [
    "a7\n"
   ]
  },
  {
   "cell_type": "code",
   "execution_count": 102,
   "metadata": {},
   "outputs": [
    {
     "data": {
      "text/plain": [
       "array([[ 0,  1,  2,  3,  4,  5,  6,  7,  8],\n",
       "       [ 9, 10, 11, 12, 13, 14, 15, 16, 17],\n",
       "       [18, 19, 20, 21, 22, 23, 24, 25, 26],\n",
       "       [27, 28, 29, 30, 31, 32, 33, 34, 35],\n",
       "       [36, 37, 38, 39, 40, 41, 42, 43, 44]])"
      ]
     },
     "execution_count": 102,
     "metadata": {},
     "output_type": "execute_result"
    }
   ],
   "source": [
    "a7.resize(5,9)\n",
    "a7"
   ]
  },
  {
   "cell_type": "code",
   "execution_count": 103,
   "metadata": {},
   "outputs": [
    {
     "data": {
      "text/plain": [
       "array([1, 1, 1, 1, 1])"
      ]
     },
     "execution_count": 103,
     "metadata": {},
     "output_type": "execute_result"
    }
   ],
   "source": [
    "np.resize(1,5)"
   ]
  },
  {
   "cell_type": "code",
   "execution_count": 104,
   "metadata": {},
   "outputs": [
    {
     "name": "stdout",
     "output_type": "stream",
     "text": [
      "Help on function resize in module numpy:\n",
      "\n",
      "resize(a, new_shape)\n",
      "    Return a new array with the specified shape.\n",
      "    \n",
      "    If the new array is larger than the original array, then the new\n",
      "    array is filled with repeated copies of `a`.  Note that this behavior\n",
      "    is different from a.resize(new_shape) which fills with zeros instead\n",
      "    of repeated copies of `a`.\n",
      "    \n",
      "    Parameters\n",
      "    ----------\n",
      "    a : array_like\n",
      "        Array to be resized.\n",
      "    \n",
      "    new_shape : int or tuple of int\n",
      "        Shape of resized array.\n",
      "    \n",
      "    Returns\n",
      "    -------\n",
      "    reshaped_array : ndarray\n",
      "        The new array is formed from the data in the old array, repeated\n",
      "        if necessary to fill out the required number of elements.  The\n",
      "        data are repeated in the order that they are stored in memory.\n",
      "    \n",
      "    See Also\n",
      "    --------\n",
      "    ndarray.resize : resize an array in-place.\n",
      "    \n",
      "    Notes\n",
      "    -----\n",
      "    Warning: This functionality does **not** consider axes separately,\n",
      "    i.e. it does not apply interpolation/extrapolation.\n",
      "    It fills the return array with the required number of elements, taken\n",
      "    from `a` as they are laid out in memory, disregarding strides and axes.\n",
      "    (This is in case the new shape is smaller. For larger, see above.)\n",
      "    This functionality is therefore not suitable to resize images,\n",
      "    or data where each axis represents a separate and distinct entity.\n",
      "    \n",
      "    Examples\n",
      "    --------\n",
      "    >>> a=np.array([[0,1],[2,3]])\n",
      "    >>> np.resize(a,(2,3))\n",
      "    array([[0, 1, 2],\n",
      "           [3, 0, 1]])\n",
      "    >>> np.resize(a,(1,4))\n",
      "    array([[0, 1, 2, 3]])\n",
      "    >>> np.resize(a,(2,4))\n",
      "    array([[0, 1, 2, 3],\n",
      "           [0, 1, 2, 3]])\n",
      "\n"
     ]
    }
   ],
   "source": [
    "help(np.resize)"
   ]
  },
  {
   "cell_type": "code",
   "execution_count": 105,
   "metadata": {},
   "outputs": [
    {
     "name": "stdout",
     "output_type": "stream",
     "text": [
      "Help on built-in function resize:\n",
      "\n",
      "resize(...) method of numpy.ndarray instance\n",
      "    a.resize(new_shape, refcheck=True)\n",
      "    \n",
      "    Change shape and size of array in-place.\n",
      "    \n",
      "    Parameters\n",
      "    ----------\n",
      "    new_shape : tuple of ints, or `n` ints\n",
      "        Shape of resized array.\n",
      "    refcheck : bool, optional\n",
      "        If False, reference count will not be checked. Default is True.\n",
      "    \n",
      "    Returns\n",
      "    -------\n",
      "    None\n",
      "    \n",
      "    Raises\n",
      "    ------\n",
      "    ValueError\n",
      "        If `a` does not own its own data or references or views to it exist,\n",
      "        and the data memory must be changed.\n",
      "        PyPy only: will always raise if the data memory must be changed, since\n",
      "        there is no reliable way to determine if references or views to it\n",
      "        exist.\n",
      "    \n",
      "    SystemError\n",
      "        If the `order` keyword argument is specified. This behaviour is a\n",
      "        bug in NumPy.\n",
      "    \n",
      "    See Also\n",
      "    --------\n",
      "    resize : Return a new array with the specified shape.\n",
      "    \n",
      "    Notes\n",
      "    -----\n",
      "    This reallocates space for the data area if necessary.\n",
      "    \n",
      "    Only contiguous arrays (data elements consecutive in memory) can be\n",
      "    resized.\n",
      "    \n",
      "    The purpose of the reference count check is to make sure you\n",
      "    do not use this array as a buffer for another Python object and then\n",
      "    reallocate the memory. However, reference counts can increase in\n",
      "    other ways so if you are sure that you have not shared the memory\n",
      "    for this array with another Python object, then you may safely set\n",
      "    `refcheck` to False.\n",
      "    \n",
      "    Examples\n",
      "    --------\n",
      "    Shrinking an array: array is flattened (in the order that the data are\n",
      "    stored in memory), resized, and reshaped:\n",
      "    \n",
      "    >>> a = np.array([[0, 1], [2, 3]], order='C')\n",
      "    >>> a.resize((2, 1))\n",
      "    >>> a\n",
      "    array([[0],\n",
      "           [1]])\n",
      "    \n",
      "    >>> a = np.array([[0, 1], [2, 3]], order='F')\n",
      "    >>> a.resize((2, 1))\n",
      "    >>> a\n",
      "    array([[0],\n",
      "           [2]])\n",
      "    \n",
      "    Enlarging an array: as above, but missing entries are filled with zeros:\n",
      "    \n",
      "    >>> b = np.array([[0, 1], [2, 3]])\n",
      "    >>> b.resize(2, 3) # new_shape parameter doesn't have to be a tuple\n",
      "    >>> b\n",
      "    array([[0, 1, 2],\n",
      "           [3, 0, 0]])\n",
      "    \n",
      "    Referencing an array prevents resizing...\n",
      "    \n",
      "    >>> c = a\n",
      "    >>> a.resize((1, 1))\n",
      "    Traceback (most recent call last):\n",
      "    ...\n",
      "    ValueError: cannot resize an array that has been referenced ...\n",
      "    \n",
      "    Unless `refcheck` is False:\n",
      "    \n",
      "    >>> a.resize((1, 1), refcheck=False)\n",
      "    >>> a\n",
      "    array([[0]])\n",
      "    >>> c\n",
      "    array([[0]])\n",
      "\n"
     ]
    }
   ],
   "source": [
    "help(a7.resize)"
   ]
  },
  {
   "cell_type": "code",
   "execution_count": 106,
   "metadata": {},
   "outputs": [
    {
     "data": {
      "text/plain": [
       "array([[ 0,  1,  2,  3,  4,  5,  6,  7,  8,  9],\n",
       "       [10, 11, 12, 13, 14, 15, 16, 17, 18, 19],\n",
       "       [20, 21, 22, 23, 24, 25, 26, 27, 28, 29],\n",
       "       [30, 31, 32, 33, 34, 35, 36, 37, 38, 39],\n",
       "       [40, 41, 42, 43, 44,  0,  1,  2,  3,  4]])"
      ]
     },
     "execution_count": 106,
     "metadata": {},
     "output_type": "execute_result"
    }
   ],
   "source": [
    "np.resize(a7,(5,10))"
   ]
  },
  {
   "cell_type": "code",
   "execution_count": 107,
   "metadata": {},
   "outputs": [
    {
     "data": {
      "text/plain": [
       "(5, 9)"
      ]
     },
     "execution_count": 107,
     "metadata": {},
     "output_type": "execute_result"
    }
   ],
   "source": [
    "a7.shape"
   ]
  },
  {
   "cell_type": "code",
   "execution_count": 108,
   "metadata": {},
   "outputs": [
    {
     "data": {
      "text/plain": [
       "array([ 0,  1,  2,  3,  4,  5,  6,  7,  8,  9, 10, 11, 12, 13, 14, 15, 16,\n",
       "       17, 18, 19, 20, 21, 22, 23, 24, 25, 26, 27, 28, 29, 30, 31, 32, 33,\n",
       "       34, 35, 36, 37, 38, 39, 40, 41, 42, 43, 44])"
      ]
     },
     "execution_count": 108,
     "metadata": {},
     "output_type": "execute_result"
    }
   ],
   "source": [
    "a7.flatten()"
   ]
  },
  {
   "cell_type": "code",
   "execution_count": 109,
   "metadata": {},
   "outputs": [
    {
     "data": {
      "text/plain": [
       "array([[ 0,  1,  2,  3,  4,  5,  6,  7,  8],\n",
       "       [ 9, 10, 11, 12, 13, 14, 15, 16, 17],\n",
       "       [18, 19, 20, 21, 22, 23, 24, 25, 26],\n",
       "       [27, 28, 29, 30, 31, 32, 33, 34, 35],\n",
       "       [36, 37, 38, 39, 40, 41, 42, 43, 44]])"
      ]
     },
     "execution_count": 109,
     "metadata": {},
     "output_type": "execute_result"
    }
   ],
   "source": [
    "a7\n"
   ]
  },
  {
   "cell_type": "code",
   "execution_count": 113,
   "metadata": {},
   "outputs": [
    {
     "data": {
      "text/plain": [
       "array([[ 0,  1,  2,  3,  4,  5,  6,  7,  8,  9, 10, 11, 12, 13, 14, 15,\n",
       "        16, 17, 18, 19, 20, 21, 22, 23, 24, 25, 26, 27, 28, 29, 30, 31,\n",
       "        32, 33, 34, 35, 36, 37, 38, 39, 40, 41, 42, 43, 44]])"
      ]
     },
     "execution_count": 113,
     "metadata": {},
     "output_type": "execute_result"
    }
   ],
   "source": [
    "a7.reshape(1,5*9)"
   ]
  },
  {
   "cell_type": "code",
   "execution_count": 119,
   "metadata": {},
   "outputs": [
    {
     "data": {
      "text/plain": [
       "array([ 0,  1,  2,  3,  4,  5,  6,  7,  8,  9, 10, 11, 12, 13, 14, 15, 16,\n",
       "       17, 18, 19, 20, 21, 22, 23, 24, 25, 26, 27, 28, 29, 30, 31, 32, 33,\n",
       "       34, 35, 36, 37, 38, 39, 40, 41, 42, 43, 44])"
      ]
     },
     "execution_count": 119,
     "metadata": {},
     "output_type": "execute_result"
    }
   ],
   "source": [
    "a7.reshape(5*9)\n",
    "a7.reshape(-1)\n"
   ]
  },
  {
   "cell_type": "code",
   "execution_count": 125,
   "metadata": {},
   "outputs": [
    {
     "name": "stdout",
     "output_type": "stream",
     "text": [
      "Help on function swapaxes in module numpy:\n",
      "\n",
      "swapaxes(a, axis1, axis2)\n",
      "    Interchange two axes of an array.\n",
      "    \n",
      "    Parameters\n",
      "    ----------\n",
      "    a : array_like\n",
      "        Input array.\n",
      "    axis1 : int\n",
      "        First axis.\n",
      "    axis2 : int\n",
      "        Second axis.\n",
      "    \n",
      "    Returns\n",
      "    -------\n",
      "    a_swapped : ndarray\n",
      "        For NumPy >= 1.10.0, if `a` is an ndarray, then a view of `a` is\n",
      "        returned; otherwise a new array is created. For earlier NumPy\n",
      "        versions a view of `a` is returned only if the order of the\n",
      "        axes is changed, otherwise the input array is returned.\n",
      "    \n",
      "    Examples\n",
      "    --------\n",
      "    >>> x = np.array([[1,2,3]])\n",
      "    >>> np.swapaxes(x,0,1)\n",
      "    array([[1],\n",
      "           [2],\n",
      "           [3]])\n",
      "    \n",
      "    >>> x = np.array([[[0,1],[2,3]],[[4,5],[6,7]]])\n",
      "    >>> x\n",
      "    array([[[0, 1],\n",
      "            [2, 3]],\n",
      "           [[4, 5],\n",
      "            [6, 7]]])\n",
      "    \n",
      "    >>> np.swapaxes(x,0,2)\n",
      "    array([[[0, 4],\n",
      "            [2, 6]],\n",
      "           [[1, 5],\n",
      "            [3, 7]]])\n",
      "\n"
     ]
    }
   ],
   "source": [
    "help(np.swapaxes)"
   ]
  },
  {
   "cell_type": "code",
   "execution_count": 127,
   "metadata": {},
   "outputs": [
    {
     "data": {
      "text/plain": [
       "array([[ 0,  9, 18, 27, 36],\n",
       "       [ 1, 10, 19, 28, 37],\n",
       "       [ 2, 11, 20, 29, 38],\n",
       "       [ 3, 12, 21, 30, 39],\n",
       "       [ 4, 13, 22, 31, 40],\n",
       "       [ 5, 14, 23, 32, 41],\n",
       "       [ 6, 15, 24, 33, 42],\n",
       "       [ 7, 16, 25, 34, 43],\n",
       "       [ 8, 17, 26, 35, 44]])"
      ]
     },
     "execution_count": 127,
     "metadata": {},
     "output_type": "execute_result"
    }
   ],
   "source": [
    "np.swapaxes(a7,0,1)"
   ]
  },
  {
   "cell_type": "code",
   "execution_count": 128,
   "metadata": {},
   "outputs": [
    {
     "data": {
      "text/plain": [
       "(5, 9)"
      ]
     },
     "execution_count": 128,
     "metadata": {},
     "output_type": "execute_result"
    }
   ],
   "source": [
    "a7.shape"
   ]
  },
  {
   "cell_type": "code",
   "execution_count": 131,
   "metadata": {},
   "outputs": [
    {
     "data": {
      "text/plain": [
       "(9, 5)"
      ]
     },
     "execution_count": 131,
     "metadata": {},
     "output_type": "execute_result"
    }
   ],
   "source": [
    "np.swapaxes(a7,0,1).shape"
   ]
  },
  {
   "cell_type": "code",
   "execution_count": 132,
   "metadata": {},
   "outputs": [
    {
     "data": {
      "text/plain": [
       "array([[ 0,  1,  2,  3,  4,  5,  6,  7,  8],\n",
       "       [ 9, 10, 11, 12, 13, 14, 15, 16, 17],\n",
       "       [18, 19, 20, 21, 22, 23, 24, 25, 26],\n",
       "       [27, 28, 29, 30, 31, 32, 33, 34, 35],\n",
       "       [36, 37, 38, 39, 40, 41, 42, 43, 44]])"
      ]
     },
     "execution_count": 132,
     "metadata": {},
     "output_type": "execute_result"
    }
   ],
   "source": [
    "a7\n"
   ]
  },
  {
   "cell_type": "code",
   "execution_count": 133,
   "metadata": {},
   "outputs": [
    {
     "data": {
      "text/plain": [
       "0.6931471805599453"
      ]
     },
     "execution_count": 133,
     "metadata": {},
     "output_type": "execute_result"
    }
   ],
   "source": [
    "import math\n",
    "math.log(2)"
   ]
  },
  {
   "cell_type": "code",
   "execution_count": 135,
   "metadata": {},
   "outputs": [
    {
     "data": {
      "text/plain": [
       "array([0.        , 0.69314718, 1.09861229, 1.38629436])"
      ]
     },
     "execution_count": 135,
     "metadata": {},
     "output_type": "execute_result"
    }
   ],
   "source": [
    "np.log([1,2,3,4])"
   ]
  },
  {
   "cell_type": "code",
   "execution_count": 136,
   "metadata": {},
   "outputs": [
    {
     "data": {
      "text/plain": [
       "0.6931471805599453"
      ]
     },
     "execution_count": 136,
     "metadata": {},
     "output_type": "execute_result"
    }
   ],
   "source": [
    "np.log1p(1)#np.log1p(x)=np.log(1+x)"
   ]
  },
  {
   "cell_type": "code",
   "execution_count": 137,
   "metadata": {},
   "outputs": [
    {
     "data": {
      "text/plain": [
       "0.0"
      ]
     },
     "execution_count": 137,
     "metadata": {},
     "output_type": "execute_result"
    }
   ],
   "source": [
    "np.log1p(0)"
   ]
  },
  {
   "cell_type": "markdown",
   "metadata": {},
   "source": [
    "exponential"
   ]
  },
  {
   "cell_type": "code",
   "execution_count": 138,
   "metadata": {},
   "outputs": [
    {
     "data": {
      "text/plain": [
       "2.718281828459045"
      ]
     },
     "execution_count": 138,
     "metadata": {},
     "output_type": "execute_result"
    }
   ],
   "source": [
    "np.exp(1)"
   ]
  },
  {
   "cell_type": "code",
   "execution_count": null,
   "metadata": {},
   "outputs": [],
   "source": [
    "#esc+h short cuts"
   ]
  },
  {
   "cell_type": "code",
   "execution_count": 152,
   "metadata": {},
   "outputs": [
    {
     "data": {
      "text/plain": [
       "4.0"
      ]
     },
     "execution_count": 152,
     "metadata": {},
     "output_type": "execute_result"
    }
   ],
   "source": [
    "np.exp2(2)"
   ]
  },
  {
   "cell_type": "code",
   "execution_count": 153,
   "metadata": {},
   "outputs": [
    {
     "data": {
      "text/plain": [
       "6.38905609893065"
      ]
     },
     "execution_count": 153,
     "metadata": {},
     "output_type": "execute_result"
    }
   ],
   "source": [
    "np.expm1(2)#np.exp()-1"
   ]
  },
  {
   "cell_type": "code",
   "execution_count": 158,
   "metadata": {},
   "outputs": [
    {
     "data": {
      "text/plain": [
       "6.38905609893065"
      ]
     },
     "execution_count": 158,
     "metadata": {},
     "output_type": "execute_result"
    }
   ],
   "source": [
    "np.exp(2)-1"
   ]
  },
  {
   "cell_type": "code",
   "execution_count": null,
   "metadata": {},
   "outputs": [],
   "source": []
  },
  {
   "cell_type": "code",
   "execution_count": null,
   "metadata": {},
   "outputs": [],
   "source": []
  }
 ],
 "metadata": {
  "kernelspec": {
   "display_name": "Python 3",
   "language": "python",
   "name": "python3"
  },
  "language_info": {
   "codemirror_mode": {
    "name": "ipython",
    "version": 3
   },
   "file_extension": ".py",
   "mimetype": "text/x-python",
   "name": "python",
   "nbconvert_exporter": "python",
   "pygments_lexer": "ipython3",
   "version": "3.7.4"
  }
 },
 "nbformat": 4,
 "nbformat_minor": 2
}
